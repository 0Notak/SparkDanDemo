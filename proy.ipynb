{
 "cells": [
  {
   "cell_type": "markdown",
   "metadata": {},
   "source": [
    "# Importar parametros"
   ]
  },
  {
   "cell_type": "code",
   "execution_count": null,
   "metadata": {},
   "outputs": [],
   "source": [
    "import sys\n",
    "\n",
    "archivojson=sys.argv[1]"
   ]
  },
  {
   "cell_type": "code",
   "execution_count": null,
   "metadata": {},
   "outputs": [],
   "source": [
    "import json\n",
    "\n",
    "with open(archivojson, 'r') as file:\n",
    "    json_arch =json.load(file)"
   ]
  },
  {
   "cell_type": "markdown",
   "metadata": {},
   "source": [
    "# Iniciar Spark"
   ]
  },
  {
   "cell_type": "code",
   "execution_count": 4,
   "metadata": {},
   "outputs": [],
   "source": [
    "from pyspark.sql import SparkSession\n",
    "from pyspark.sql.functions import col, concat"
   ]
  },
  {
   "cell_type": "code",
   "execution_count": 5,
   "metadata": {},
   "outputs": [],
   "source": [
    "spark = SparkSession.builder \\\n",
    "    .appName(\"Conversion 1\") \\\n",
    "    .config(\"spark.scheduler.mode\", \"FAIR\") \\\n",
    "    .getOrCreate()\n"
   ]
  },
  {
   "cell_type": "code",
   "execution_count": 145,
   "metadata": {},
   "outputs": [],
   "source": [
    "# Enable Adaptive Query Execution\n",
    "spark.conf.set(\"spark.sql.adaptive.enabled\", \"true\")\n",
    "spark.conf.set(\"spark.sql.adaptive.optimizerEnabled\", \"true\")"
   ]
  },
  {
   "cell_type": "code",
   "execution_count": 167,
   "metadata": {},
   "outputs": [],
   "source": [
    "spark.conf.set(\"spark.sql.shuffle.partitions\", \"200\")"
   ]
  },
  {
   "cell_type": "code",
   "execution_count": 168,
   "metadata": {},
   "outputs": [
    {
     "name": "stdout",
     "output_type": "stream",
     "text": [
      "spark.sql.shuffle.partitions\n"
     ]
    }
   ],
   "source": [
    "print('spark.sql.shuffle.partitions')"
   ]
  },
  {
   "cell_type": "code",
   "execution_count": null,
   "metadata": {},
   "outputs": [],
   "source": [
    "#Ejemplo\n",
    "executor_cores = spark.conf.get(\"spark.executor.cores\")\n",
    "print(f\"Número de núcleos del ejecutor: {executor_cores}\")\n",
    "\n",
    "#Ejemplo\n",
    "driver_cores = spark.conf.get(\"spark.driver.cores\")\n",
    "print(f\"Número de núcleos del driver: {driver_cores}\")"
   ]
  },
  {
   "cell_type": "code",
   "execution_count": null,
   "metadata": {},
   "outputs": [],
   "source": [
    "#EJEMPLO\n",
    "spark.conf.set(\"spark.executor.cores\", \"8\")\n",
    "spark.conf.set(\"spark.executor.memory\", \"32g\")"
   ]
  },
  {
   "cell_type": "code",
   "execution_count": null,
   "metadata": {},
   "outputs": [],
   "source": [
    "#EJEMPLO\n",
    "spark.conf.set(\"spark.driver.cores\", \"16\")\n",
    "spark.conf.set(\"spark.driver.memory\", \"128g\")"
   ]
  },
  {
   "cell_type": "code",
   "execution_count": null,
   "metadata": {},
   "outputs": [],
   "source": [
    "# Ejemplo de lectura de archivo de parametros\n",
    "googlep=spark.read.csv(json_arch[\"Archivo2\"])"
   ]
  },
  {
   "cell_type": "code",
   "execution_count": 8,
   "metadata": {},
   "outputs": [
    {
     "name": "stderr",
     "output_type": "stream",
     "text": [
      "                                                                                \r"
     ]
    }
   ],
   "source": [
    "# Lectura de Archivos de manera directa por csv\n",
    "googlep = spark.read.csv(\"googleplaystore.csv\", header=True, inferSchema=True)"
   ]
  },
  {
   "cell_type": "markdown",
   "metadata": {},
   "source": [
    "# Uso de Spark Dataframe"
   ]
  },
  {
   "cell_type": "code",
   "execution_count": 9,
   "metadata": {},
   "outputs": [
    {
     "name": "stdout",
     "output_type": "stream",
     "text": [
      "+--------------------+--------------+------+-------+----+-----------+----+-----+--------------+--------------------+------------------+------------------+------------+\n",
      "|                 App|      Category|Rating|Reviews|Size|   Installs|Type|Price|Content Rating|              Genres|      Last Updated|       Current Ver| Android Ver|\n",
      "+--------------------+--------------+------+-------+----+-----------+----+-----+--------------+--------------------+------------------+------------------+------------+\n",
      "|Photo Editor & Ca...|ART_AND_DESIGN|   4.1|    159| 19M|    10,000+|Free|    0|      Everyone|        Art & Design|   January 7, 2018|             1.0.0|4.0.3 and up|\n",
      "| Coloring book moana|ART_AND_DESIGN|   3.9|    967| 14M|   500,000+|Free|    0|      Everyone|Art & Design;Pret...|  January 15, 2018|             2.0.0|4.0.3 and up|\n",
      "|U Launcher Lite –...|ART_AND_DESIGN|   4.7|  87510|8.7M| 5,000,000+|Free|    0|      Everyone|        Art & Design|    August 1, 2018|             1.2.4|4.0.3 and up|\n",
      "|Sketch - Draw & P...|ART_AND_DESIGN|   4.5| 215644| 25M|50,000,000+|Free|    0|          Teen|        Art & Design|      June 8, 2018|Varies with device|  4.2 and up|\n",
      "|Pixel Draw - Numb...|ART_AND_DESIGN|   4.3|    967|2.8M|   100,000+|Free|    0|      Everyone|Art & Design;Crea...|     June 20, 2018|               1.1|  4.4 and up|\n",
      "|Paper flowers ins...|ART_AND_DESIGN|   4.4|    167|5.6M|    50,000+|Free|    0|      Everyone|        Art & Design|    March 26, 2017|               1.0|  2.3 and up|\n",
      "|Smoke Effect Phot...|ART_AND_DESIGN|   3.8|    178| 19M|    50,000+|Free|    0|      Everyone|        Art & Design|    April 26, 2018|               1.1|4.0.3 and up|\n",
      "|    Infinite Painter|ART_AND_DESIGN|   4.1|  36815| 29M| 1,000,000+|Free|    0|      Everyone|        Art & Design|     June 14, 2018|          6.1.61.1|  4.2 and up|\n",
      "|Garden Coloring Book|ART_AND_DESIGN|   4.4|  13791| 33M| 1,000,000+|Free|    0|      Everyone|        Art & Design|September 20, 2017|             2.9.2|  3.0 and up|\n",
      "|Kids Paint Free -...|ART_AND_DESIGN|   4.7|    121|3.1M|    10,000+|Free|    0|      Everyone|Art & Design;Crea...|      July 3, 2018|               2.8|4.0.3 and up|\n",
      "|Text on Photo - F...|ART_AND_DESIGN|   4.4|  13880| 28M| 1,000,000+|Free|    0|      Everyone|        Art & Design|  October 27, 2017|             1.0.4|  4.1 and up|\n",
      "|Name Art Photo Ed...|ART_AND_DESIGN|   4.4|   8788| 12M| 1,000,000+|Free|    0|      Everyone|        Art & Design|     July 31, 2018|            1.0.15|  4.0 and up|\n",
      "|Tattoo Name On My...|ART_AND_DESIGN|   4.2|  44829| 20M|10,000,000+|Free|    0|          Teen|        Art & Design|     April 2, 2018|               3.8|  4.1 and up|\n",
      "|Mandala Coloring ...|ART_AND_DESIGN|   4.6|   4326| 21M|   100,000+|Free|    0|      Everyone|        Art & Design|     June 26, 2018|             1.0.4|  4.4 and up|\n",
      "|3D Color Pixel by...|ART_AND_DESIGN|   4.4|   1518| 37M|   100,000+|Free|    0|      Everyone|        Art & Design|    August 3, 2018|             1.2.3|  2.3 and up|\n",
      "|Learn To Draw Kaw...|ART_AND_DESIGN|   3.2|     55|2.7M|     5,000+|Free|    0|      Everyone|        Art & Design|      June 6, 2018|               NaN|  4.2 and up|\n",
      "|Photo Designer - ...|ART_AND_DESIGN|   4.7|   3632|5.5M|   500,000+|Free|    0|      Everyone|        Art & Design|     July 31, 2018|               3.1|  4.1 and up|\n",
      "|350 Diy Room Deco...|ART_AND_DESIGN|   4.5|     27| 17M|    10,000+|Free|    0|      Everyone|        Art & Design|  November 7, 2017|               1.0|  2.3 and up|\n",
      "|FlipaClip - Carto...|ART_AND_DESIGN|   4.3| 194216| 39M| 5,000,000+|Free|    0|      Everyone|        Art & Design|    August 3, 2018|             2.2.5|4.0.3 and up|\n",
      "|        ibis Paint X|ART_AND_DESIGN|   4.6| 224399| 31M|10,000,000+|Free|    0|      Everyone|        Art & Design|     July 30, 2018|             5.5.4|  4.1 and up|\n",
      "+--------------------+--------------+------+-------+----+-----------+----+-----+--------------+--------------------+------------------+------------------+------------+\n",
      "only showing top 20 rows\n",
      "\n"
     ]
    }
   ],
   "source": [
    "googlep.show()"
   ]
  },
  {
   "cell_type": "code",
   "execution_count": 10,
   "metadata": {},
   "outputs": [
    {
     "name": "stdout",
     "output_type": "stream",
     "text": [
      "root\n",
      " |-- App: string (nullable = true)\n",
      " |-- Category: string (nullable = true)\n",
      " |-- Rating: string (nullable = true)\n",
      " |-- Reviews: string (nullable = true)\n",
      " |-- Size: string (nullable = true)\n",
      " |-- Installs: string (nullable = true)\n",
      " |-- Type: string (nullable = true)\n",
      " |-- Price: string (nullable = true)\n",
      " |-- Content Rating: string (nullable = true)\n",
      " |-- Genres: string (nullable = true)\n",
      " |-- Last Updated: string (nullable = true)\n",
      " |-- Current Ver: string (nullable = true)\n",
      " |-- Android Ver: string (nullable = true)\n",
      "\n"
     ]
    }
   ],
   "source": [
    "googlep.printSchema()"
   ]
  },
  {
   "cell_type": "code",
   "execution_count": 20,
   "metadata": {},
   "outputs": [
    {
     "name": "stdout",
     "output_type": "stream",
     "text": [
      "root\n",
      " |-- App: string (nullable = true)\n",
      " |-- Category: string (nullable = true)\n",
      " |-- Rating: string (nullable = true)\n",
      " |-- Reviews: string (nullable = true)\n",
      " |-- Size: string (nullable = true)\n",
      " |-- Installs: string (nullable = true)\n",
      " |-- Type: string (nullable = true)\n",
      " |-- Price: string (nullable = true)\n",
      " |-- Content Rating: string (nullable = true)\n",
      " |-- Genres: string (nullable = true)\n",
      " |-- Last Updated: string (nullable = true)\n",
      " |-- Current Ver: string (nullable = true)\n",
      " |-- Android Ver: string (nullable = true)\n",
      " |-- Rating: integer (nullable = true)\n",
      "\n"
     ]
    }
   ],
   "source": [
    "googlecast=googlep.select('App', 'Category', 'Rating', 'Reviews', 'Size', 'Installs', 'Type', 'Price', 'Content Rating', 'Genres', 'Last Updated', 'Current Ver', 'Android Ver', col(\"Rating\").cast(\"int\"))\n",
    "googlecast.printSchema()"
   ]
  },
  {
   "cell_type": "code",
   "execution_count": 31,
   "metadata": {},
   "outputs": [
    {
     "data": {
      "text/plain": [
       "[Row(Genres='Video Players & Editors;Creativity', count=2),\n",
       " Row(Genres='Adventure;Action & Adventure', count=13),\n",
       " Row(Genres='Education', count=549),\n",
       " Row(Genres='Trivia', count=38),\n",
       " Row(Genres='Art & Design;Action & Adventure', count=2),\n",
       " Row(Genres='Auto & Vehicles', count=85),\n",
       " Row(Genres='Travel & Local;Action & Adventure', count=1),\n",
       " Row(Genres='Simulation;Action & Adventure', count=11),\n",
       " Row(Genres='Education;Pretend Play', count=23),\n",
       " Row(Genres='Tools;Education', count=1),\n",
       " Row(Genres='Entertainment', count=623),\n",
       " Row(Genres='Education;Education', count=50),\n",
       " Row(Genres='Entertainment;Music & Video', count=27),\n",
       " Row(Genres='Parenting;Brain Games', count=1),\n",
       " Row(Genres='Simulation;Pretend Play', count=4),\n",
       " Row(Genres='Arcade;Action & Adventure', count=16),\n",
       " Row(Genres='Educational;Creativity', count=5),\n",
       " Row(Genres='Arcade;Pretend Play', count=1),\n",
       " Row(Genres='Casual;Music & Video', count=2),\n",
       " Row(Genres='Adventure', count=75),\n",
       " Row(Genres='Arcade', count=220),\n",
       " Row(Genres='Books & Reference;Creativity', count=1),\n",
       " Row(Genres='Education;Brain Games', count=5),\n",
       " Row(Genres='Entertainment;Brain Games', count=8),\n",
       " Row(Genres='Health & Fitness;Action & Adventure', count=1),\n",
       " Row(Genres='Sports', count=398),\n",
       " Row(Genres='Entertainment;Action & Adventure', count=3),\n",
       " Row(Genres='Adventure;Education', count=2),\n",
       " Row(Genres='Travel & Local', count=257),\n",
       " Row(Genres='Food & Drink', count=127),\n",
       " Row(Genres='Sports;Action & Adventure', count=4),\n",
       " Row(Genres='Parenting;Education', count=7),\n",
       " Row(Genres='Role Playing', count=109),\n",
       " Row(Genres='Casual;Pretend Play', count=31),\n",
       " Row(Genres='Educational;Action & Adventure', count=4),\n",
       " Row(Genres='Finance', count=366),\n",
       " Row(Genres='Education;Action & Adventure', count=6),\n",
       " Row(Genres='Personalization', count=392),\n",
       " Row(Genres='Educational;Pretend Play', count=19),\n",
       " Row(Genres='Action;Action & Adventure', count=17),\n",
       " Row(Genres='Role Playing;Pretend Play', count=5),\n",
       " Row(Genres='Racing', count=98),\n",
       " Row(Genres='Comics;Creativity', count=1),\n",
       " Row(Genres='Board;Action & Adventure', count=3),\n",
       " Row(Genres='Tools', count=842),\n",
       " Row(Genres='Board;Brain Games', count=15),\n",
       " Row(Genres='Lifestyle;Pretend Play', count=1),\n",
       " Row(Genres='Casual;Creativity', count=7),\n",
       " Row(Genres='Educational', count=37),\n",
       " Row(Genres='Parenting;Music & Video', count=6),\n",
       " Row(Genres='Comics', count=59),\n",
       " Row(Genres='Education;Music & Video', count=5),\n",
       " Row(Genres='Lifestyle;Education', count=1),\n",
       " Row(Genres='Puzzle;Creativity', count=2),\n",
       " Row(Genres='Social', count=295),\n",
       " Row(Genres='Adventure;Brain Games', count=1),\n",
       " Row(Genres='Libraries & Demo', count=85),\n",
       " Row(Genres='Health & Fitness;Education', count=1),\n",
       " Row(Genres='Shopping', count=260),\n",
       " Row(Genres='Health & Fitness', count=340),\n",
       " Row(Genres='House & Home', count=88),\n",
       " Row(Genres='Entertainment;Creativity', count=3),\n",
       " Row(Genres='Racing;Pretend Play', count=1),\n",
       " Row(Genres='Productivity', count=424),\n",
       " Row(Genres='Card', count=48),\n",
       " Row(Genres='Puzzle;Brain Games', count=19),\n",
       " Row(Genres='Strategy;Education', count=1),\n",
       " Row(Genres='Board;Pretend Play', count=1),\n",
       " Row(Genres='Casual;Action & Adventure', count=21),\n",
       " Row(Genres='Casino', count=39),\n",
       " Row(Genres='Role Playing;Brain Games', count=1),\n",
       " Row(Genres='February 11, 2018', count=1),\n",
       " Row(Genres='Card;Brain Games', count=1),\n",
       " Row(Genres='Music', count=22),\n",
       " Row(Genres='Entertainment;Education', count=1),\n",
       " Row(Genres='Video Players & Editors;Music & Video', count=3),\n",
       " Row(Genres='Art & Design;Creativity', count=7),\n",
       " Row(Genres='Photography', count=335),\n",
       " Row(Genres='Books & Reference;Education', count=2),\n",
       " Row(Genres='Card;Action & Adventure', count=2),\n",
       " Row(Genres='Communication;Creativity', count=1),\n",
       " Row(Genres='Events', count=64),\n",
       " Row(Genres='Casual;Brain Games', count=13),\n",
       " Row(Genres='Lifestyle', count=381),\n",
       " Row(Genres='Business', count=460),\n",
       " Row(Genres='News & Magazines', count=283),\n",
       " Row(Genres='Video Players & Editors', count=173),\n",
       " Row(Genres='Books & Reference', count=231),\n",
       " Row(Genres='Trivia;Education', count=1),\n",
       " Row(Genres='Music & Audio;Music & Video', count=1),\n",
       " Row(Genres='Dating', count=234),\n",
       " Row(Genres='Strategy;Action & Adventure', count=2),\n",
       " Row(Genres='Weather', count=82),\n",
       " Row(Genres='Puzzle', count=140),\n",
       " Row(Genres='Casual', count=193),\n",
       " Row(Genres='Role Playing;Education', count=1),\n",
       " Row(Genres='Education;Creativity', count=7),\n",
       " Row(Genres='Free', count=2),\n",
       " Row(Genres='Racing;Action & Adventure', count=20),\n",
       " Row(Genres='Board', count=44),\n",
       " Row(Genres='Music;Music & Video', count=3),\n",
       " Row(Genres='Educational;Education', count=41),\n",
       " Row(Genres='Medical', count=463),\n",
       " Row(Genres='Simulation;Education', count=3),\n",
       " Row(Genres='Parenting', count=46),\n",
       " Row(Genres='Communication', count=387),\n",
       " Row(Genres='Word', count=29),\n",
       " Row(Genres='Beauty', count=53),\n",
       " Row(Genres='Puzzle;Education', count=1),\n",
       " Row(Genres='Action', count=365),\n",
       " Row(Genres='Strategy', count=107),\n",
       " Row(Genres='Strategy;Creativity', count=1),\n",
       " Row(Genres='Casual;Education', count=3),\n",
       " Row(Genres='Entertainment;Pretend Play', count=2),\n",
       " Row(Genres='Educational;Brain Games', count=6),\n",
       " Row(Genres='Art & Design;Pretend Play', count=2),\n",
       " Row(Genres='Maps & Navigation', count=136),\n",
       " Row(Genres='Puzzle;Action & Adventure', count=5),\n",
       " Row(Genres='Art & Design', count=58),\n",
       " Row(Genres='Simulation', count=200),\n",
       " Row(Genres='Role Playing;Action & Adventure', count=7)]"
      ]
     },
     "execution_count": 31,
     "metadata": {},
     "output_type": "execute_result"
    }
   ],
   "source": [
    "genresgoog=googlecast.groupBy('Genres').count()\n",
    "genresgoog.collect()"
   ]
  },
  {
   "cell_type": "code",
   "execution_count": 37,
   "metadata": {},
   "outputs": [
    {
     "name": "stdout",
     "output_type": "stream",
     "text": [
      "+--------------------+\n",
      "|          App_Genres|\n",
      "+--------------------+\n",
      "|Photo Editor & Ca...|\n",
      "|Coloring book moa...|\n",
      "|U Launcher Lite –...|\n",
      "|Sketch - Draw & P...|\n",
      "|Pixel Draw - Numb...|\n",
      "|Paper flowers ins...|\n",
      "|Smoke Effect Phot...|\n",
      "|Infinite PainterA...|\n",
      "|Garden Coloring B...|\n",
      "|Kids Paint Free -...|\n",
      "|Text on Photo - F...|\n",
      "|Name Art Photo Ed...|\n",
      "|Tattoo Name On My...|\n",
      "|Mandala Coloring ...|\n",
      "|3D Color Pixel by...|\n",
      "|Learn To Draw Kaw...|\n",
      "|Photo Designer - ...|\n",
      "|350 Diy Room Deco...|\n",
      "|FlipaClip - Carto...|\n",
      "|ibis Paint XArt &...|\n",
      "+--------------------+\n",
      "only showing top 20 rows\n",
      "\n"
     ]
    }
   ],
   "source": [
    "googleconc=googlecast.select(concat(col('App'), col('Genres')).alias('App_Genres'))\n",
    "googleconc.show()"
   ]
  },
  {
   "cell_type": "code",
   "execution_count": 82,
   "metadata": {},
   "outputs": [],
   "source": [
    "goog=googlep.drop( 'Reviews', 'Size', 'Installs', 'Type', 'Content Rating', 'Genres', 'Last Updated', 'Current Ver', 'Android Ver')"
   ]
  },
  {
   "cell_type": "code",
   "execution_count": 83,
   "metadata": {},
   "outputs": [
    {
     "name": "stdout",
     "output_type": "stream",
     "text": [
      "+--------------------+--------------+------+-----+\n",
      "|                 App|      Category|Rating|Price|\n",
      "+--------------------+--------------+------+-----+\n",
      "|Photo Editor & Ca...|ART_AND_DESIGN|   4.1|    0|\n",
      "| Coloring book moana|ART_AND_DESIGN|   3.9|    0|\n",
      "|U Launcher Lite –...|ART_AND_DESIGN|   4.7|    0|\n",
      "|Sketch - Draw & P...|ART_AND_DESIGN|   4.5|    0|\n",
      "|Pixel Draw - Numb...|ART_AND_DESIGN|   4.3|    0|\n",
      "|Paper flowers ins...|ART_AND_DESIGN|   4.4|    0|\n",
      "|Smoke Effect Phot...|ART_AND_DESIGN|   3.8|    0|\n",
      "|    Infinite Painter|ART_AND_DESIGN|   4.1|    0|\n",
      "|Garden Coloring Book|ART_AND_DESIGN|   4.4|    0|\n",
      "|Kids Paint Free -...|ART_AND_DESIGN|   4.7|    0|\n",
      "|Text on Photo - F...|ART_AND_DESIGN|   4.4|    0|\n",
      "|Name Art Photo Ed...|ART_AND_DESIGN|   4.4|    0|\n",
      "|Tattoo Name On My...|ART_AND_DESIGN|   4.2|    0|\n",
      "|Mandala Coloring ...|ART_AND_DESIGN|   4.6|    0|\n",
      "|3D Color Pixel by...|ART_AND_DESIGN|   4.4|    0|\n",
      "|Learn To Draw Kaw...|ART_AND_DESIGN|   3.2|    0|\n",
      "|Photo Designer - ...|ART_AND_DESIGN|   4.7|    0|\n",
      "|350 Diy Room Deco...|ART_AND_DESIGN|   4.5|    0|\n",
      "|FlipaClip - Carto...|ART_AND_DESIGN|   4.3|    0|\n",
      "|        ibis Paint X|ART_AND_DESIGN|   4.6|    0|\n",
      "+--------------------+--------------+------+-----+\n",
      "only showing top 20 rows\n",
      "\n"
     ]
    }
   ],
   "source": [
    "goog.show()"
   ]
  },
  {
   "cell_type": "code",
   "execution_count": 123,
   "metadata": {},
   "outputs": [
    {
     "name": "stdout",
     "output_type": "stream",
     "text": [
      "+--------------------+--------------+------+-------+----+-----------+----+-----+--------------+--------------------+------------------+------------------+------------+------+--------------------+--------------+------+-----+\n",
      "|                 App|      Category|Rating|Reviews|Size|   Installs|Type|Price|Content Rating|              Genres|      Last Updated|       Current Ver| Android Ver|Rating|                 App|      Category|Rating|Price|\n",
      "+--------------------+--------------+------+-------+----+-----------+----+-----+--------------+--------------------+------------------+------------------+------------+------+--------------------+--------------+------+-----+\n",
      "|Photo Editor & Ca...|ART_AND_DESIGN|   4.1|    159| 19M|    10,000+|Free|    0|      Everyone|        Art & Design|   January 7, 2018|             1.0.0|4.0.3 and up|     4|Photo Editor & Ca...|ART_AND_DESIGN|   4.1|    0|\n",
      "| Coloring book moana|ART_AND_DESIGN|   3.9|    967| 14M|   500,000+|Free|    0|      Everyone|Art & Design;Pret...|  January 15, 2018|             2.0.0|4.0.3 and up|     3| Coloring book moana|        FAMILY|   3.9|    0|\n",
      "| Coloring book moana|ART_AND_DESIGN|   3.9|    967| 14M|   500,000+|Free|    0|      Everyone|Art & Design;Pret...|  January 15, 2018|             2.0.0|4.0.3 and up|     3| Coloring book moana|ART_AND_DESIGN|   3.9|    0|\n",
      "|U Launcher Lite –...|ART_AND_DESIGN|   4.7|  87510|8.7M| 5,000,000+|Free|    0|      Everyone|        Art & Design|    August 1, 2018|             1.2.4|4.0.3 and up|     4|U Launcher Lite –...|ART_AND_DESIGN|   4.7|    0|\n",
      "|Sketch - Draw & P...|ART_AND_DESIGN|   4.5| 215644| 25M|50,000,000+|Free|    0|          Teen|        Art & Design|      June 8, 2018|Varies with device|  4.2 and up|     4|Sketch - Draw & P...|ART_AND_DESIGN|   4.5|    0|\n",
      "|Pixel Draw - Numb...|ART_AND_DESIGN|   4.3|    967|2.8M|   100,000+|Free|    0|      Everyone|Art & Design;Crea...|     June 20, 2018|               1.1|  4.4 and up|     4|Pixel Draw - Numb...|ART_AND_DESIGN|   4.3|    0|\n",
      "|Paper flowers ins...|ART_AND_DESIGN|   4.4|    167|5.6M|    50,000+|Free|    0|      Everyone|        Art & Design|    March 26, 2017|               1.0|  2.3 and up|     4|Paper flowers ins...|ART_AND_DESIGN|   4.4|    0|\n",
      "|Smoke Effect Phot...|ART_AND_DESIGN|   3.8|    178| 19M|    50,000+|Free|    0|      Everyone|        Art & Design|    April 26, 2018|               1.1|4.0.3 and up|     3|Smoke Effect Phot...|ART_AND_DESIGN|   3.8|    0|\n",
      "|    Infinite Painter|ART_AND_DESIGN|   4.1|  36815| 29M| 1,000,000+|Free|    0|      Everyone|        Art & Design|     June 14, 2018|          6.1.61.1|  4.2 and up|     4|    Infinite Painter|ART_AND_DESIGN|   4.1|    0|\n",
      "|Garden Coloring Book|ART_AND_DESIGN|   4.4|  13791| 33M| 1,000,000+|Free|    0|      Everyone|        Art & Design|September 20, 2017|             2.9.2|  3.0 and up|     4|Garden Coloring Book|ART_AND_DESIGN|   4.4|    0|\n",
      "|Kids Paint Free -...|ART_AND_DESIGN|   4.7|    121|3.1M|    10,000+|Free|    0|      Everyone|Art & Design;Crea...|      July 3, 2018|               2.8|4.0.3 and up|     4|Kids Paint Free -...|ART_AND_DESIGN|   4.7|    0|\n",
      "|Text on Photo - F...|ART_AND_DESIGN|   4.4|  13880| 28M| 1,000,000+|Free|    0|      Everyone|        Art & Design|  October 27, 2017|             1.0.4|  4.1 and up|     4|Text on Photo - F...|ART_AND_DESIGN|   4.4|    0|\n",
      "|Name Art Photo Ed...|ART_AND_DESIGN|   4.4|   8788| 12M| 1,000,000+|Free|    0|      Everyone|        Art & Design|     July 31, 2018|            1.0.15|  4.0 and up|     4|Name Art Photo Ed...|ART_AND_DESIGN|   4.4|    0|\n",
      "|Tattoo Name On My...|ART_AND_DESIGN|   4.2|  44829| 20M|10,000,000+|Free|    0|          Teen|        Art & Design|     April 2, 2018|               3.8|  4.1 and up|     4|Tattoo Name On My...|ART_AND_DESIGN|   4.2|    0|\n",
      "|Mandala Coloring ...|ART_AND_DESIGN|   4.6|   4326| 21M|   100,000+|Free|    0|      Everyone|        Art & Design|     June 26, 2018|             1.0.4|  4.4 and up|     4|Mandala Coloring ...|ART_AND_DESIGN|   4.6|    0|\n",
      "|3D Color Pixel by...|ART_AND_DESIGN|   4.4|   1518| 37M|   100,000+|Free|    0|      Everyone|        Art & Design|    August 3, 2018|             1.2.3|  2.3 and up|     4|3D Color Pixel by...|ART_AND_DESIGN|   4.4|    0|\n",
      "|Learn To Draw Kaw...|ART_AND_DESIGN|   3.2|     55|2.7M|     5,000+|Free|    0|      Everyone|        Art & Design|      June 6, 2018|               NaN|  4.2 and up|     3|Learn To Draw Kaw...|ART_AND_DESIGN|   3.2|    0|\n",
      "|Photo Designer - ...|ART_AND_DESIGN|   4.7|   3632|5.5M|   500,000+|Free|    0|      Everyone|        Art & Design|     July 31, 2018|               3.1|  4.1 and up|     4|Photo Designer - ...|ART_AND_DESIGN|   4.7|    0|\n",
      "|350 Diy Room Deco...|ART_AND_DESIGN|   4.5|     27| 17M|    10,000+|Free|    0|      Everyone|        Art & Design|  November 7, 2017|               1.0|  2.3 and up|     4|350 Diy Room Deco...|ART_AND_DESIGN|   4.5|    0|\n",
      "|FlipaClip - Carto...|ART_AND_DESIGN|   4.3| 194216| 39M| 5,000,000+|Free|    0|      Everyone|        Art & Design|    August 3, 2018|             2.2.5|4.0.3 and up|     4|FlipaClip - Carto...|ART_AND_DESIGN|   4.3|    0|\n",
      "+--------------------+--------------+------+-------+----+-----------+----+-----+--------------+--------------------+------------------+------------------+------------+------+--------------------+--------------+------+-----+\n",
      "only showing top 20 rows\n",
      "\n"
     ]
    }
   ],
   "source": [
    "google = googlecast.join(goog, googlecast.App == goog.App, 'left')\n",
    "                                                                    \n",
    "google.show()"
   ]
  },
  {
   "cell_type": "markdown",
   "metadata": {},
   "source": [
    "# Creacion y uso de Vistas temporales"
   ]
  },
  {
   "cell_type": "code",
   "execution_count": 124,
   "metadata": {},
   "outputs": [],
   "source": [
    "google.createOrReplaceTempView('temp_google')"
   ]
  },
  {
   "cell_type": "code",
   "execution_count": 128,
   "metadata": {},
   "outputs": [
    {
     "name": "stdout",
     "output_type": "stream",
     "text": [
      "+--------------------+--------------+------+-------+----+-----------+----+-----+--------------+--------------------+----------------+------------------+------------+------+--------------------+--------------+------+-----+\n",
      "|                 App|      Category|Rating|Reviews|Size|   Installs|Type|Price|Content Rating|              Genres|    Last Updated|       Current Ver| Android Ver|Rating|                 App|      Category|Rating|Price|\n",
      "+--------------------+--------------+------+-------+----+-----------+----+-----+--------------+--------------------+----------------+------------------+------------+------+--------------------+--------------+------+-----+\n",
      "|Photo Editor & Ca...|ART_AND_DESIGN|   4.1|    159| 19M|    10,000+|Free|    0|      Everyone|        Art & Design| January 7, 2018|             1.0.0|4.0.3 and up|     4|Photo Editor & Ca...|ART_AND_DESIGN|   4.1|    0|\n",
      "| Coloring book moana|ART_AND_DESIGN|   3.9|    967| 14M|   500,000+|Free|    0|      Everyone|Art & Design;Pret...|January 15, 2018|             2.0.0|4.0.3 and up|     3| Coloring book moana|        FAMILY|   3.9|    0|\n",
      "| Coloring book moana|ART_AND_DESIGN|   3.9|    967| 14M|   500,000+|Free|    0|      Everyone|Art & Design;Pret...|January 15, 2018|             2.0.0|4.0.3 and up|     3| Coloring book moana|ART_AND_DESIGN|   3.9|    0|\n",
      "|U Launcher Lite –...|ART_AND_DESIGN|   4.7|  87510|8.7M| 5,000,000+|Free|    0|      Everyone|        Art & Design|  August 1, 2018|             1.2.4|4.0.3 and up|     4|U Launcher Lite –...|ART_AND_DESIGN|   4.7|    0|\n",
      "|Sketch - Draw & P...|ART_AND_DESIGN|   4.5| 215644| 25M|50,000,000+|Free|    0|          Teen|        Art & Design|    June 8, 2018|Varies with device|  4.2 and up|     4|Sketch - Draw & P...|ART_AND_DESIGN|   4.5|    0|\n",
      "+--------------------+--------------+------+-------+----+-----------+----+-----+--------------+--------------------+----------------+------------------+------------+------+--------------------+--------------+------+-----+\n",
      "\n"
     ]
    }
   ],
   "source": [
    "spark.sql('SELECT * FROM temp_google LIMIT 5 ').show()"
   ]
  },
  {
   "cell_type": "code",
   "execution_count": 132,
   "metadata": {},
   "outputs": [],
   "source": [
    "googlep.createOrReplaceTempView('df_original')"
   ]
  },
  {
   "cell_type": "code",
   "execution_count": 137,
   "metadata": {},
   "outputs": [
    {
     "name": "stdout",
     "output_type": "stream",
     "text": [
      "+--------------------+------+-------+\n",
      "|                 App|Precio|Puntaje|\n",
      "+--------------------+------+-------+\n",
      "|Photo Editor & Ca...|     0|    4.1|\n",
      "| Coloring book moana|     0|    3.9|\n",
      "|U Launcher Lite –...|     0|    4.7|\n",
      "|Sketch - Draw & P...|     0|    4.5|\n",
      "|Pixel Draw - Numb...|     0|    4.3|\n",
      "|Paper flowers ins...|     0|    4.4|\n",
      "|Smoke Effect Phot...|     0|    3.8|\n",
      "|    Infinite Painter|     0|    4.1|\n",
      "|Garden Coloring Book|     0|    4.4|\n",
      "|Kids Paint Free -...|     0|    4.7|\n",
      "|Text on Photo - F...|     0|    4.4|\n",
      "+--------------------+------+-------+\n",
      "\n"
     ]
    }
   ],
   "source": [
    "spark.sql('SELECT App, Price AS Precio, Rating AS Puntaje FROM df_original LIMIT 11').show()"
   ]
  },
  {
   "cell_type": "code",
   "execution_count": 149,
   "metadata": {},
   "outputs": [
    {
     "name": "stdout",
     "output_type": "stream",
     "text": [
      "+------------------+------+\n",
      "|          Category|Precio|\n",
      "+------------------+------+\n",
      "|            EVENTS|   0.0|\n",
      "|            COMICS|   0.0|\n",
      "|            SPORTS|   0.0|\n",
      "|           WEATHER|   0.0|\n",
      "|     VIDEO_PLAYERS|   0.0|\n",
      "| AUTO_AND_VEHICLES|   0.0|\n",
      "|         PARENTING|   0.0|\n",
      "|     ENTERTAINMENT|   0.0|\n",
      "|   PERSONALIZATION|   0.0|\n",
      "|HEALTH_AND_FITNESS|   0.0|\n",
      "|  TRAVEL_AND_LOCAL|   0.0|\n",
      "+------------------+------+\n",
      "\n"
     ]
    }
   ],
   "source": [
    "sqlunion=spark.sql('SELECT Category, SUM(Price) AS Precio FROM df_original  GROUP BY Category LIMIT 11').show()"
   ]
  },
  {
   "cell_type": "markdown",
   "metadata": {},
   "source": [
    "# JOIN ENTRE DATAFRAME Y VISTA TEMPORAL"
   ]
  },
  {
   "cell_type": "code",
   "execution_count": 165,
   "metadata": {},
   "outputs": [
    {
     "name": "stdout",
     "output_type": "stream",
     "text": [
      "+--------------------+--------------+------+-------+----+-----------+----+-----+--------------+--------------------+------------------+------------------+------------+--------------------+--------------+------+-------+----+-----------+----+-----+--------------+--------------------+------------------+------------------+------------+\n",
      "|                 App|      Category|Rating|Reviews|Size|   Installs|Type|Price|Content Rating|              Genres|      Last Updated|       Current Ver| Android Ver|                 App|      Category|Rating|Reviews|Size|   Installs|Type|Price|Content Rating|              Genres|      Last Updated|       Current Ver| Android Ver|\n",
      "+--------------------+--------------+------+-------+----+-----------+----+-----+--------------+--------------------+------------------+------------------+------------+--------------------+--------------+------+-------+----+-----------+----+-----+--------------+--------------------+------------------+------------------+------------+\n",
      "|Photo Editor & Ca...|ART_AND_DESIGN|   4.1|    159| 19M|    10,000+|Free|    0|      Everyone|        Art & Design|   January 7, 2018|             1.0.0|4.0.3 and up|Photo Editor & Ca...|ART_AND_DESIGN|   4.1|    159| 19M|    10,000+|Free|    0|      Everyone|        Art & Design|   January 7, 2018|             1.0.0|4.0.3 and up|\n",
      "| Coloring book moana|ART_AND_DESIGN|   3.9|    967| 14M|   500,000+|Free|    0|      Everyone|Art & Design;Pret...|  January 15, 2018|             2.0.0|4.0.3 and up| Coloring book moana|        FAMILY|   3.9|    974| 14M|   500,000+|Free|    0|      Everyone|Art & Design;Pret...|  January 15, 2018|             2.0.0|4.0.3 and up|\n",
      "| Coloring book moana|ART_AND_DESIGN|   3.9|    967| 14M|   500,000+|Free|    0|      Everyone|Art & Design;Pret...|  January 15, 2018|             2.0.0|4.0.3 and up| Coloring book moana|ART_AND_DESIGN|   3.9|    967| 14M|   500,000+|Free|    0|      Everyone|Art & Design;Pret...|  January 15, 2018|             2.0.0|4.0.3 and up|\n",
      "|U Launcher Lite –...|ART_AND_DESIGN|   4.7|  87510|8.7M| 5,000,000+|Free|    0|      Everyone|        Art & Design|    August 1, 2018|             1.2.4|4.0.3 and up|U Launcher Lite –...|ART_AND_DESIGN|   4.7|  87510|8.7M| 5,000,000+|Free|    0|      Everyone|        Art & Design|    August 1, 2018|             1.2.4|4.0.3 and up|\n",
      "|Sketch - Draw & P...|ART_AND_DESIGN|   4.5| 215644| 25M|50,000,000+|Free|    0|          Teen|        Art & Design|      June 8, 2018|Varies with device|  4.2 and up|Sketch - Draw & P...|ART_AND_DESIGN|   4.5| 215644| 25M|50,000,000+|Free|    0|          Teen|        Art & Design|      June 8, 2018|Varies with device|  4.2 and up|\n",
      "|Pixel Draw - Numb...|ART_AND_DESIGN|   4.3|    967|2.8M|   100,000+|Free|    0|      Everyone|Art & Design;Crea...|     June 20, 2018|               1.1|  4.4 and up|Pixel Draw - Numb...|ART_AND_DESIGN|   4.3|    967|2.8M|   100,000+|Free|    0|      Everyone|Art & Design;Crea...|     June 20, 2018|               1.1|  4.4 and up|\n",
      "|Paper flowers ins...|ART_AND_DESIGN|   4.4|    167|5.6M|    50,000+|Free|    0|      Everyone|        Art & Design|    March 26, 2017|               1.0|  2.3 and up|Paper flowers ins...|ART_AND_DESIGN|   4.4|    167|5.6M|    50,000+|Free|    0|      Everyone|        Art & Design|    March 26, 2017|               1.0|  2.3 and up|\n",
      "|Smoke Effect Phot...|ART_AND_DESIGN|   3.8|    178| 19M|    50,000+|Free|    0|      Everyone|        Art & Design|    April 26, 2018|               1.1|4.0.3 and up|Smoke Effect Phot...|ART_AND_DESIGN|   3.8|    178| 19M|    50,000+|Free|    0|      Everyone|        Art & Design|    April 26, 2018|               1.1|4.0.3 and up|\n",
      "|    Infinite Painter|ART_AND_DESIGN|   4.1|  36815| 29M| 1,000,000+|Free|    0|      Everyone|        Art & Design|     June 14, 2018|          6.1.61.1|  4.2 and up|    Infinite Painter|ART_AND_DESIGN|   4.1|  36815| 29M| 1,000,000+|Free|    0|      Everyone|        Art & Design|     June 14, 2018|          6.1.61.1|  4.2 and up|\n",
      "|Garden Coloring Book|ART_AND_DESIGN|   4.4|  13791| 33M| 1,000,000+|Free|    0|      Everyone|        Art & Design|September 20, 2017|             2.9.2|  3.0 and up|Garden Coloring Book|ART_AND_DESIGN|   4.4|  13791| 33M| 1,000,000+|Free|    0|      Everyone|        Art & Design|September 20, 2017|             2.9.2|  3.0 and up|\n",
      "|Kids Paint Free -...|ART_AND_DESIGN|   4.7|    121|3.1M|    10,000+|Free|    0|      Everyone|Art & Design;Crea...|      July 3, 2018|               2.8|4.0.3 and up|Kids Paint Free -...|ART_AND_DESIGN|   4.7|    121|3.1M|    10,000+|Free|    0|      Everyone|Art & Design;Crea...|      July 3, 2018|               2.8|4.0.3 and up|\n",
      "|Text on Photo - F...|ART_AND_DESIGN|   4.4|  13880| 28M| 1,000,000+|Free|    0|      Everyone|        Art & Design|  October 27, 2017|             1.0.4|  4.1 and up|Text on Photo - F...|ART_AND_DESIGN|   4.4|  13880| 28M| 1,000,000+|Free|    0|      Everyone|        Art & Design|  October 27, 2017|             1.0.4|  4.1 and up|\n",
      "|Name Art Photo Ed...|ART_AND_DESIGN|   4.4|   8788| 12M| 1,000,000+|Free|    0|      Everyone|        Art & Design|     July 31, 2018|            1.0.15|  4.0 and up|Name Art Photo Ed...|ART_AND_DESIGN|   4.4|   8788| 12M| 1,000,000+|Free|    0|      Everyone|        Art & Design|     July 31, 2018|            1.0.15|  4.0 and up|\n",
      "|Tattoo Name On My...|ART_AND_DESIGN|   4.2|  44829| 20M|10,000,000+|Free|    0|          Teen|        Art & Design|     April 2, 2018|               3.8|  4.1 and up|Tattoo Name On My...|ART_AND_DESIGN|   4.2|  44829| 20M|10,000,000+|Free|    0|          Teen|        Art & Design|     April 2, 2018|               3.8|  4.1 and up|\n",
      "|Mandala Coloring ...|ART_AND_DESIGN|   4.6|   4326| 21M|   100,000+|Free|    0|      Everyone|        Art & Design|     June 26, 2018|             1.0.4|  4.4 and up|Mandala Coloring ...|ART_AND_DESIGN|   4.6|   4326| 21M|   100,000+|Free|    0|      Everyone|        Art & Design|     June 26, 2018|             1.0.4|  4.4 and up|\n",
      "|3D Color Pixel by...|ART_AND_DESIGN|   4.4|   1518| 37M|   100,000+|Free|    0|      Everyone|        Art & Design|    August 3, 2018|             1.2.3|  2.3 and up|3D Color Pixel by...|ART_AND_DESIGN|   4.4|   1518| 37M|   100,000+|Free|    0|      Everyone|        Art & Design|    August 3, 2018|             1.2.3|  2.3 and up|\n",
      "|Learn To Draw Kaw...|ART_AND_DESIGN|   3.2|     55|2.7M|     5,000+|Free|    0|      Everyone|        Art & Design|      June 6, 2018|               NaN|  4.2 and up|Learn To Draw Kaw...|ART_AND_DESIGN|   3.2|     55|2.7M|     5,000+|Free|    0|      Everyone|        Art & Design|      June 6, 2018|               NaN|  4.2 and up|\n",
      "|Photo Designer - ...|ART_AND_DESIGN|   4.7|   3632|5.5M|   500,000+|Free|    0|      Everyone|        Art & Design|     July 31, 2018|               3.1|  4.1 and up|Photo Designer - ...|ART_AND_DESIGN|   4.7|   3632|5.5M|   500,000+|Free|    0|      Everyone|        Art & Design|     July 31, 2018|               3.1|  4.1 and up|\n",
      "|350 Diy Room Deco...|ART_AND_DESIGN|   4.5|     27| 17M|    10,000+|Free|    0|      Everyone|        Art & Design|  November 7, 2017|               1.0|  2.3 and up|350 Diy Room Deco...|ART_AND_DESIGN|   4.5|     27| 17M|    10,000+|Free|    0|      Everyone|        Art & Design|  November 7, 2017|               1.0|  2.3 and up|\n",
      "|FlipaClip - Carto...|ART_AND_DESIGN|   4.3| 194216| 39M| 5,000,000+|Free|    0|      Everyone|        Art & Design|    August 3, 2018|             2.2.5|4.0.3 and up|FlipaClip - Carto...|ART_AND_DESIGN|   4.3| 194216| 39M| 5,000,000+|Free|    0|      Everyone|        Art & Design|    August 3, 2018|             2.2.5|4.0.3 and up|\n",
      "+--------------------+--------------+------+-------+----+-----------+----+-----+--------------+--------------------+------------------+------------------+------------+--------------------+--------------+------+-------+----+-----------+----+-----+--------------+--------------------+------------------+------------------+------------+\n",
      "only showing top 20 rows\n",
      "\n"
     ]
    }
   ],
   "source": [
    "temp_df=googlep.join(spark.table(\"df_original\"), googlep.App == spark.table(\"df_original\").App, \"inner\").show()"
   ]
  },
  {
   "cell_type": "code",
   "execution_count": null,
   "metadata": {},
   "outputs": [],
   "source": [
    "temp_df.write.mode('Append').saveAsTable('database.table')\n",
    "temp_df.write.mode('overwrite').insertInto('database.table2')"
   ]
  }
 ],
 "metadata": {
  "kernelspec": {
   "display_name": "Python 3",
   "language": "python",
   "name": "python3"
  },
  "language_info": {
   "codemirror_mode": {
    "name": "ipython",
    "version": 3
   },
   "file_extension": ".py",
   "mimetype": "text/x-python",
   "name": "python",
   "nbconvert_exporter": "python",
   "pygments_lexer": "ipython3",
   "version": "3.12.2"
  }
 },
 "nbformat": 4,
 "nbformat_minor": 2
}
